{
 "cells": [
  {
   "cell_type": "code",
   "execution_count": 1,
   "metadata": {},
   "outputs": [],
   "source": [
    "import requests\n",
    "import bs4\n",
    "import json\n",
    "import pandas as pd"
   ]
  },
  {
   "cell_type": "code",
   "execution_count": 5,
   "metadata": {},
   "outputs": [
    {
     "name": "stdout",
     "output_type": "stream",
     "text": [
      "Toy Story\n",
      "{'name': 'Toy Story', 'rating': '8.3'}\n",
      "Jumanji\n",
      "{'name': 'Jumanji', 'rating': '7.0'}\n",
      "Grumpier Old Men\n",
      "{'name': 'Grumpier Old Men', 'rating': '6.7'}\n",
      "Waiting to Exhale\n",
      "{'name': 'Waiting to Exhale', 'rating': '5.9'}\n",
      "Father of the Bride Part II\n",
      "{'name': 'Father of the Bride Part II', 'rating': '6.0'}\n",
      "Heat\n",
      "{'name': 'Heat', 'rating': '8.2'}\n",
      "Sabrina\n",
      "{'name': 'Sabrina', 'rating': '6.3'}\n",
      "Tom and Huck\n",
      "{'name': 'Tom and Huck', 'rating': '5.5'}\n",
      "Sudden Death\n",
      "{'name': 'Sudden Death', 'rating': '5.8'}\n",
      "GoldenEye\n",
      "{'name': 'GoldenEye', 'rating': '7.2'}\n",
      "['Toy Story', 'Jumanji', 'Grumpier Old Men', 'Waiting to Exhale', 'Father of the Bride Part II', 'Heat', 'Sabrina', 'Tom and Huck', 'Sudden Death', 'GoldenEye']\n"
     ]
    }
   ],
   "source": [
    "def fetch_id(num):\n",
    "    df=pd.read_csv(\"C:/Users/Sreenath SP/Downloads/links.csv\")\n",
    "    start =0\n",
    "    end=start+num\n",
    "    list_movies=list(df.imdbId)\n",
    "    return list_movies[start:end]\n",
    "\n",
    "def scrape_id(list_movies):\n",
    "    url = \"https://www.imdb.com/title/tt{}\".format(str(list_movies).zfill(7))\n",
    "    response = requests.get(url)\n",
    "    html_parse=bs4.BeautifulSoup(response.text,\"html.parser\")\n",
    "    current_page_json=html_parse.find(\"script\",attrs={\"type\":\"application/ld+json\"})\n",
    "    current_page_json=str(current_page_json)[str(current_page_json).find('{'): -9]\n",
    "    return current_page_json\n",
    "\n",
    "def collect_parameters(list_movies):\n",
    "    json_dict=json.loads(scrape_id(list_movies))\n",
    "    movie={\n",
    "        \"name\":json_dict['name'],\n",
    "        \"rating\": json_dict['aggregateRating']['ratingValue']\n",
    "        \n",
    "    }\n",
    "    print(movie[\"name\"])\n",
    "    return movie\n",
    "\n",
    "def show_case(list_movies=20):\n",
    "    ids=fetch_id(list_movies)\n",
    "    resultant_parameter={\"movies\": []}\n",
    "    for i in ids:\n",
    "        resultant_parameter[\"movies\"].append(collect_parameters(i))\n",
    "        return resultant_parameter\n",
    "\n",
    "ids=fetch_id(10)\n",
    "name=[]\n",
    "rating=[]\n",
    "\n",
    "for i in ids:\n",
    "    x=collect_parameters(i)\n",
    "    name.append(x['name'])\n",
    "    rating.append(x['rating'])\n",
    "    print(x)\n",
    "print(name)"
   ]
  },
  {
   "cell_type": "code",
   "execution_count": 10,
   "metadata": {},
   "outputs": [
    {
     "data": {
      "image/png": "[encoded data removed]",
      "text/plain": [
       "<Figure size 432x288 with 1 Axes>"
      ]
     },
     "metadata": {
      "needs_background": "light"
     },
     "output_type": "display_data"
    }
   ],
   "source": [
    "import matplotlib.pyplot as plt\n",
    "fig=plt.figure()\n",
    "axis=fig.add_axes([1,1,1,1])\n",
    "axis.bar(rating,name)\n",
    "plt.xlabel('Rating')\n",
    "plt.ylabel('Name')\n",
    "plt.show()"
   ]
  },
  {
   "cell_type": "code",
   "execution_count": null,
   "metadata": {},
   "outputs": [],
   "source": []
  }
 ],
 "metadata": {
  "kernelspec": {
   "display_name": "Python 3",
   "language": "python",
   "name": "python3"
  },
  "language_info": {
   "codemirror_mode": {
    "name": "ipython",
    "version": 3
   },
   "file_extension": ".py",
   "mimetype": "text/x-python",
   "name": "python",
   "nbconvert_exporter": "python",
   "pygments_lexer": "ipython3",
   "version": "3.7.4"
  }
 },
 "nbformat": 4,
 "nbformat_minor": 2
}
